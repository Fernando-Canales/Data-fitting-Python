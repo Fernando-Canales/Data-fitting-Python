{
 "cells": [
  {
   "cell_type": "markdown",
   "metadata": {},
   "source": [
    "# Gaussian Likelihood and $\\chi^{2}$"
   ]
  },
  {
   "cell_type": "code",
   "execution_count": 1,
   "metadata": {},
   "outputs": [],
   "source": [
    "#import main libraries\n",
    "import numpy as np\n",
    "from scipy.optimize import minimize\n",
    "import matplotlib.pyplot as plt\n",
    "%matplotlib inline"
   ]
  },
  {
   "cell_type": "code",
   "execution_count": 2,
   "metadata": {},
   "outputs": [
    {
     "data": {
      "text/plain": [
       "[<matplotlib.lines.Line2D at 0x7f20eeb808e0>]"
      ]
     },
     "execution_count": 2,
     "metadata": {},
     "output_type": "execute_result"
    },
    {
     "data": {
      "image/png": "[encoded data removed]",
      "text/plain": [
       "<Figure size 432x288 with 1 Axes>"
      ]
     },
     "metadata": {
      "needs_background": "light"
     },
     "output_type": "display_data"
    }
   ],
   "source": [
    "#Making a set of data and time\n",
    "y = np.linspace(0,1,50)\n",
    "t = np.linspace(0,1,50)\n",
    "\n",
    "plt.plot(t,y, 'o')"
   ]
  },
  {
   "cell_type": "code",
   "execution_count": 3,
   "metadata": {},
   "outputs": [
    {
     "data": {
      "image/png": "[encoded data removed]",
      "text/plain": [
       "<Figure size 432x288 with 1 Axes>"
      ]
     },
     "metadata": {
      "needs_background": "light"
     },
     "output_type": "display_data"
    }
   ],
   "source": [
    "#Adding withe noise to data set\n",
    "noise = np.random.normal(0, 0.1,50)\n",
    "signal = y + noise\n",
    "\n",
    "#Creating a line function\n",
    "def line(t,p):\n",
    "    a = p[0]\n",
    "    b = p[1]\n",
    "    return a + b*t\n",
    "\n",
    "#Plotting with error bars\n",
    "plt.errorbar(t,signal, yerr = noise, label = \"data\", fmt = \"o\")\n",
    "plt.xlabel(\"Time [Arbitrary Units]\")\n",
    "plt.ylabel(\"Observable [Arbitraty Units]\")\n",
    "plt.legend()\n",
    "plt.show()"
   ]
  },
  {
   "cell_type": "markdown",
   "metadata": {},
   "source": [
    "# Gaussian Likelihood\n"
   ]
  },
  {
   "cell_type": "markdown",
   "metadata": {},
   "source": [
    "$ L = P(D|M) = \\left[ \\prod_{i = 1}^{n} \\frac{1}{\\sqrt{2 \\pi \\sigma_{i}^{2}}} \\right]exp\\left[ -\\sum_{i =1}^{n} \\frac{1}{2} \\frac{(y_{i} - f_{i})^{2}}{\\sigma_{i}^{2}} \\right] $"
   ]
  },
  {
   "cell_type": "markdown",
   "metadata": {},
   "source": [
    "## Taking the natural log to the Gaussian Likelihood:"
   ]
  },
  {
   "cell_type": "markdown",
   "metadata": {},
   "source": [
    "\n",
    "$ \\ln(L) = \\sum_{i = 1}^{n}  \\ln \\left[ \\frac{1}{\\sqrt{2 \\pi \\sigma_{i}^{2}}} \\right] - \\sum_{i = 1}^{n} \\frac{1}{2} \\frac{(y_{i} - f_{i})^{2}}{\\sigma_{i}^{2}} $"
   ]
  },
  {
   "cell_type": "markdown",
   "metadata": {},
   "source": [
    "$ ln(L) = \\sum_{i=1}^{n} \\left[ \\ln \\left( \\frac{1}{\\sqrt{2 \\pi \\sigma_{i}^{2}}} \\right) - \\frac{1}{2} \\frac{(y_{i} - f_{i})^{2}}{\\sigma_{i}^{2}} \\right]$"
   ]
  },
  {
   "cell_type": "markdown",
   "metadata": {},
   "source": [
    "## Then:"
   ]
  },
  {
   "cell_type": "markdown",
   "metadata": {},
   "source": [
    "$ln(L) = \\sum_{i=1}^{n}\\left[ -\\frac{1}{2} \\ln\\left( 2 \\pi \\sigma_{i}^{2} \\right) - \\frac{1}{2}\\frac{(y_{i} - f_{i})^{2}}{\\sigma_{i}^{2}} \\right]$"
   ]
  },
  {
   "cell_type": "markdown",
   "metadata": {},
   "source": [
    "## Then:"
   ]
  },
  {
   "cell_type": "markdown",
   "metadata": {},
   "source": [
    "$ln(L) = -\\frac{1}{2}\\sum_{i=1}^{n} \\left[ \\ln \\left( 2 \\pi \\sigma_{i}^{2} \\right) + \\frac{(y_{i} - f_{i})^{2}}{\\sigma_{i}^{2}} \\right]$"
   ]
  },
  {
   "cell_type": "code",
   "execution_count": 14,
   "metadata": {},
   "outputs": [],
   "source": [
    "#Defining a function for the logarithmic Gaussian likelihood\n",
    "def negalolik(p,t,y,noise):\n",
    "    f = line(t,p)\n",
    "    chidos = (y - f)**2/noise**2\n",
    "    lognorm = np.log(2 * np.pi * noise**2)\n",
    "    total = lognorm + chidos\n",
    "    loglike = -0.5*np.sum(total)\n",
    "#Since we are trying to maximize the gaussian likelihood, we have to minimize its negative.     \n",
    "    return -loglike"
   ]
  },
  {
   "cell_type": "code",
   "execution_count": 15,
   "metadata": {},
   "outputs": [],
   "source": [
    "#Maximizing the likelihood.\n",
    "lik_model = minimize(negalolik,x0=[0,0], args=(t,y,noise))"
   ]
  },
  {
   "cell_type": "code",
   "execution_count": 16,
   "metadata": {
    "scrolled": true
   },
   "outputs": [
    {
     "data": {
      "text/plain": [
       "      fun: -91.58755115781237\n",
       " hess_inv: array([[ 2.44906793e-05, -5.46020118e-05],\n",
       "       [-5.46020118e-05,  1.98401147e-04]])\n",
       "      jac: array([5.91278076e-04, 1.52587891e-05])\n",
       "  message: 'Desired error not necessarily achieved due to precision loss.'\n",
       "     nfev: 243\n",
       "      nit: 3\n",
       "     njev: 77\n",
       "   status: 2\n",
       "  success: False\n",
       "        x: array([-5.07770938e-10,  9.99999995e-01])"
      ]
     },
     "execution_count": 16,
     "metadata": {},
     "output_type": "execute_result"
    }
   ],
   "source": [
    "lik_model"
   ]
  },
  {
   "cell_type": "code",
   "execution_count": 17,
   "metadata": {},
   "outputs": [
    {
     "name": "stdout",
     "output_type": "stream",
     "text": [
      "The optimized values of our parameters are: a = -5.077709380540872e-10 and b = 0.9999999948971385\n"
     ]
    }
   ],
   "source": [
    "print(\"The optimized values of our parameters are:\",\"a =\", lik_model.x[0],\"and b =\",lik_model.x[1])"
   ]
  },
  {
   "cell_type": "code",
   "execution_count": 18,
   "metadata": {},
   "outputs": [
    {
     "data": {
      "image/png": "[encoded data removed]",
      "text/plain": [
       "<Figure size 432x288 with 1 Axes>"
      ]
     },
     "metadata": {
      "needs_background": "light"
     },
     "output_type": "display_data"
    }
   ],
   "source": [
    "#Now plotting with those parameters\n",
    "f = line(t,lik_model.x)\n",
    "plt.errorbar(t,signal, yerr = noise, label = \"data\", fmt = \"o\")\n",
    "plt.plot(t,f, label = \"best model\")\n",
    "plt.xlabel(\"Time [Arbitrary Units]\")\n",
    "plt.ylabel(\"Observable [Arbitraty Units]\")\n",
    "plt.legend()\n",
    "plt.show()"
   ]
  },
  {
   "cell_type": "markdown",
   "metadata": {},
   "source": [
    "# Now with $\\chi^{2}$"
   ]
  },
  {
   "cell_type": "markdown",
   "metadata": {},
   "source": [
    "## The mathematical expression for $\\chi^{2}$ can be written as follows :\n",
    "\n",
    "$ \\chi_{2} = \\sum_{i = 1}^{n} \\frac{1}{2} \\frac{(y_{i} - f_{i})^{2}}{\\sigma_{i}^{2}}$\n",
    "\n",
    "## Above's expression is very similar to the one of the Gaussian likelihood without the normalization term. This is because we can transform a Gaussian likelihood function into a $\\chi_{2}$ if and only if the normalization term is constant."
   ]
  },
  {
   "cell_type": "code",
   "execution_count": 19,
   "metadata": {},
   "outputs": [],
   "source": [
    "#Defining a new line function\n",
    "def linea(t,para):\n",
    "    c = para[0]\n",
    "    d = para[1]\n",
    "    return c + d*t\n",
    "\n",
    "#Defining a chi_square function\n",
    "def jicuadro(para,t,y,noise):\n",
    "    m = linea(t,para)\n",
    "    chi = 0.5*(y - m)**2/noise**2\n",
    "    chi_square = np.sum(chi)\n",
    "    return chi_square"
   ]
  },
  {
   "cell_type": "code",
   "execution_count": 20,
   "metadata": {},
   "outputs": [],
   "source": [
    "#Minimizing the chi_square\n",
    "ji_cuadro = minimize(jicuadro,x0=[0,0],args=(t,y,noise))"
   ]
  },
  {
   "cell_type": "code",
   "execution_count": 21,
   "metadata": {},
   "outputs": [
    {
     "name": "stdout",
     "output_type": "stream",
     "text": [
      "      fun: 1.7153812196063157e-13\n",
      " hess_inv: array([[ 2.45341740e-05, -5.51090859e-05],\n",
      "       [-5.51090859e-05,  2.00392804e-04]])\n",
      "      jac: array([6.98459134e-04, 3.50803751e-05])\n",
      "  message: 'Desired error not necessarily achieved due to precision loss.'\n",
      "     nfev: 176\n",
      "      nit: 3\n",
      "     njev: 55\n",
      "   status: 2\n",
      "  success: False\n",
      "        x: array([1.07276908e-09, 9.99999993e-01])\n"
     ]
    }
   ],
   "source": [
    "print(ji_cuadro)"
   ]
  },
  {
   "cell_type": "code",
   "execution_count": 22,
   "metadata": {},
   "outputs": [
    {
     "name": "stdout",
     "output_type": "stream",
     "text": [
      "The optimized values of our parameters are: c = 1.0727690817474085e-09 and d = 0.9999999928271079\n"
     ]
    }
   ],
   "source": [
    "print(\"The optimized values of our parameters are:\",\"c =\", ji_cuadro.x[0],\"and d =\",ji_cuadro.x[1])"
   ]
  },
  {
   "cell_type": "code",
   "execution_count": 23,
   "metadata": {},
   "outputs": [
    {
     "data": {
      "image/png": "[encoded data removed]",
      "text/plain": [
       "<Figure size 432x288 with 1 Axes>"
      ]
     },
     "metadata": {
      "needs_background": "light"
     },
     "output_type": "display_data"
    }
   ],
   "source": [
    "#Now plotting with those parameters\n",
    "f = line(t,ji_cuadro.x)\n",
    "plt.errorbar(t,signal, yerr = noise, label = \"data\", fmt = \"o\")\n",
    "plt.plot(t,f, label = \"best model\")\n",
    "plt.xlabel(\"Time [Arbitrary Units]\")\n",
    "plt.ylabel(\"Observable [Arbitraty Units]\")\n",
    "plt.legend()\n",
    "plt.show()"
   ]
  },
  {
   "cell_type": "code",
   "execution_count": null,
   "metadata": {},
   "outputs": [],
   "source": []
  }
 ],
 "metadata": {
  "kernelspec": {
   "display_name": "Python 3",
   "language": "python",
   "name": "python3"
  },
  "language_info": {
   "codemirror_mode": {
    "name": "ipython",
    "version": 3
   },
   "file_extension": ".py",
   "mimetype": "text/x-python",
   "name": "python",
   "nbconvert_exporter": "python",
   "pygments_lexer": "ipython3",
   "version": "3.8.5"
  }
 },
 "nbformat": 4,
 "nbformat_minor": 4
}
